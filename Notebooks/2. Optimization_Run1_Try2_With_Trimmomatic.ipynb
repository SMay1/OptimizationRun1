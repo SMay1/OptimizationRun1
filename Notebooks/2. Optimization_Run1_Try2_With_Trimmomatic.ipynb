{
 "cells": [
  {
   "cell_type": "markdown",
   "metadata": {},
   "source": [
    "Mistakenly ran through the pipeline without trimmomatic, this is a second try hopefully correctly:"
   ]
  },
  {
   "cell_type": "markdown",
   "metadata": {},
   "source": [
    "Trimmomatic:"
   ]
  },
  {
   "cell_type": "markdown",
   "metadata": {},
   "source": [
    "downloaded binary trimmomatic and placed in directory"
   ]
  },
  {
   "cell_type": "code",
   "execution_count": 1,
   "metadata": {
    "collapsed": false
   },
   "outputs": [
    {
     "name": "stdout",
     "output_type": "stream",
     "text": [
      "/mnt/hgfs/Ubuntu_Shared/OptimizationRun1/Data/Unzipped_Data\n"
     ]
    }
   ],
   "source": [
    "cd /mnt/hgfs/Ubuntu_Shared/OptimizationRun1/Data/Unzipped_Data/"
   ]
  },
  {
   "cell_type": "markdown",
   "metadata": {},
   "source": [
    "Example of one line of code, however I am going to do with all individuals:"
   ]
  },
  {
   "cell_type": "code",
   "execution_count": null,
   "metadata": {
    "collapsed": true
   },
   "outputs": [],
   "source": [
    "java -jar ../../Programs/Trimmomatic-0.36/trimmomatic-0.32.jar PE -phred33 -trimlog S05.trimlog.txt \\\n",
    "~/Desktop/katmai/WORK/PASCAL/OtsTest2/allBarcodeSplit/OtsTest2_KKOGR07_0011_R1.fastq \\\n",
    "~/Desktop/katmai/WORK/PASCAL/OtsTest2/allBarcodeSplit/OtsTest2_KKOGR07_0011_R2.fastq \\\n",
    "~/Desktop/katmai/WORK/PASCAL/OtsTest2/allBarcodeSplit/OtsTest2_KKOGR07_0011_R1paired.fq \\\n",
    "~/Desktop/katmai/WORK/PASCAL/OtsTest2/allBarcodeSplit/unpaired/OtsTest2_KKOGR07_0011_R1unpaired.fq \\\n",
    "~/Desktop/katmai/WORK/PASCAL/OtsTest2/allBarcodeSplit/OtsTest2_KKOGR07_0011_R2paired.fq \\\n",
    "~/Desktop/katmai/WORK/PASCAL/OtsTest2/allBarcodeSplit/unpaired/OtsTest2_KKOGR07_0011_R2unpaired.fq \\\n",
    "LEADING:3 TRAILING:3 SLIDINGWINDOW:4:15 MINLEN:36"
   ]
  },
  {
   "cell_type": "code",
   "execution_count": null,
   "metadata": {
    "collapsed": true
   },
   "outputs": [],
   "source": []
  }
 ],
 "metadata": {
  "kernelspec": {
   "display_name": "Python 2",
   "language": "python",
   "name": "python2"
  },
  "language_info": {
   "codemirror_mode": {
    "name": "ipython",
    "version": 2
   },
   "file_extension": ".py",
   "mimetype": "text/x-python",
   "name": "python",
   "nbconvert_exporter": "python",
   "pygments_lexer": "ipython2",
   "version": "2.7.13"
  }
 },
 "nbformat": 4,
 "nbformat_minor": 2
}
