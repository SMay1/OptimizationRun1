{
 "cells": [
  {
   "cell_type": "markdown",
   "metadata": {},
   "source": [
    "Genotyping. Using the \"makeProbes.pl\" script to make the bioinformatic probes and then Campbell's genotyping V3 script to genotype"
   ]
  },
  {
   "cell_type": "code",
   "execution_count": 1,
   "metadata": {},
   "outputs": [
    {
     "name": "stdout",
     "output_type": "stream",
     "text": [
      "/mnt/hgfs/Ubuntu_Shared/OptimizationRun1/Data/Genotyping\n"
     ]
    }
   ],
   "source": [
    "cd /mnt/hgfs/Ubuntu_Shared/OptimizationRun1/Data/Genotyping/"
   ]
  },
  {
   "cell_type": "code",
   "execution_count": 8,
   "metadata": {
    "collapsed": true
   },
   "outputs": [],
   "source": [
    "!perl makeProbes.pl Amplicons_Brackets.txt > Amplicons_Probes.txt"
   ]
  },
  {
   "cell_type": "code",
   "execution_count": 9,
   "metadata": {},
   "outputs": [
    {
     "name": "stdout",
     "output_type": "stream",
     "text": [
      "/mnt/hgfs/Ubuntu_Shared/OptimizationRun1/Data/Unzipped_Data\n"
     ]
    }
   ],
   "source": [
    "cd ../Unzipped_Data/"
   ]
  },
  {
   "cell_type": "code",
   "execution_count": 10,
   "metadata": {
    "scrolled": true
   },
   "outputs": [
    {
     "name": "stdout",
     "output_type": "stream",
     "text": [
      "Can't locate String/Approx.pm in @INC (you may need to install the String::Approx module) (@INC contains: /etc/perl /usr/local/lib/x86_64-linux-gnu/perl/5.22.2 /usr/local/share/perl/5.22.2 /usr/lib/x86_64-linux-gnu/perl5/5.22 /usr/share/perl5 /usr/lib/x86_64-linux-gnu/perl/5.22 /usr/share/perl/5.22 /usr/local/lib/site_perl /usr/lib/x86_64-linux-gnu/perl-base .) at GTseq_Genotyper_v3.pl line 21.\r\n",
      "BEGIN failed--compilation aborted at GTseq_Genotyper_v3.pl line 21.\r\n"
     ]
    }
   ],
   "source": [
    "!perl GTseq_Genotyper_v3.pl SNP1_Genotyper_V3_Input.csv 2010AC19909_S1_L001_R1_001.fastq "
   ]
  },
  {
   "cell_type": "code",
   "execution_count": 11,
   "metadata": {
    "scrolled": true
   },
   "outputs": [
    {
     "name": "stdout",
     "output_type": "stream",
     "text": [
      "Loading internal null logger. Install Log::Log4perl for logging messages\n",
      "\n",
      "CPAN.pm requires configuration, but most of it can be done automatically.\n",
      "If you answer 'no' below, you will enter an interactive dialog for each\n",
      "configuration option instead.\n",
      "\n",
      "Would you like to configure as much as possible automatically? [yes] ^C\n"
     ]
    }
   ],
   "source": [
    "!cpan String::Approx"
   ]
  },
  {
   "cell_type": "code",
   "execution_count": 29,
   "metadata": {},
   "outputs": [],
   "source": [
    "!perl GTseq_Genotyper_v3.pl SNP1_Genotyper_V3_Input.csv 2010AC19909_S1_L001_R1_001.fastq > 2010AC19909_S1_L001_R1_001_V3_Genotyper_out.txt"
   ]
  },
  {
   "cell_type": "markdown",
   "metadata": {},
   "source": [
    "great, it is working, now to do it on all sequences, fwd on R1 and rev on R2, (puting the reverse primer sequence in the FWD spot in the input script) this is only to look at loci that are not amplifying in the R1... if they are genotyping in R2 but not R1 that is fine but if they are not genotyping in either then that is bad"
   ]
  },
  {
   "cell_type": "code",
   "execution_count": 2,
   "metadata": {},
   "outputs": [
    {
     "name": "stderr",
     "output_type": "stream",
     "text": [
      "'perl' is not recognized as an internal or external command,\n",
      "operable program or batch file.\n",
      "'perl' is not recognized as an internal or external command,\n",
      "operable program or batch file.\n",
      "'perl' is not recognized as an internal or external command,\n",
      "operable program or batch file.\n",
      "'perl' is not recognized as an internal or external command,\n",
      "operable program or batch file.\n",
      "'perl' is not recognized as an internal or external command,\n",
      "operable program or batch file.\n",
      "'perl' is not recognized as an internal or external command,\n",
      "operable program or batch file.\n",
      "'perl' is not recognized as an internal or external command,\n",
      "operable program or batch file.\n",
      "'perl' is not recognized as an internal or external command,\n",
      "operable program or batch file.\n",
      "'perl' is not recognized as an internal or external command,\n",
      "operable program or batch file.\n",
      "'perl' is not recognized as an internal or external command,\n",
      "operable program or batch file.\n",
      "'perl' is not recognized as an internal or external command,\n",
      "operable program or batch file.\n",
      "'perl' is not recognized as an internal or external command,\n",
      "operable program or batch file.\n",
      "'perl' is not recognized as an internal or external command,\n",
      "operable program or batch file.\n",
      "'perl' is not recognized as an internal or external command,\n",
      "operable program or batch file.\n",
      "'perl' is not recognized as an internal or external command,\n",
      "operable program or batch file.\n",
      "'perl' is not recognized as an internal or external command,\n",
      "operable program or batch file.\n",
      "'perl' is not recognized as an internal or external command,\n",
      "operable program or batch file.\n",
      "'perl' is not recognized as an internal or external command,\n",
      "operable program or batch file.\n",
      "'perl' is not recognized as an internal or external command,\n",
      "operable program or batch file.\n",
      "'perl' is not recognized as an internal or external command,\n",
      "operable program or batch file.\n",
      "'perl' is not recognized as an internal or external command,\n",
      "operable program or batch file.\n",
      "'perl' is not recognized as an internal or external command,\n",
      "operable program or batch file.\n",
      "'perl' is not recognized as an internal or external command,\n",
      "operable program or batch file.\n",
      "'perl' is not recognized as an internal or external command,\n",
      "operable program or batch file.\n"
     ]
    }
   ],
   "source": [
    "!perl Gtseq_Genotyper_v3.pl SNP1_FWD_Genotyper_V3_Input.csv 2010AC19003_S9_L001_R1_001.fastq > 2010AC19003_S9_L001_R1_001_V3_Genotyper_Out.txt\n",
    "!perl Gtseq_Genotyper_v3.pl SNP1_FWD_Genotyper_V3_Input.csv 2010AC19006_S10_L001_R1_001.fastq > 2010AC19006_S10_L001_R1_001_V3_Genotyper_Out.txt\n",
    "!perl Gtseq_Genotyper_v3.pl SNP1_FWD_Genotyper_V3_Input.csv 2010AC19008_S11_L001_R1_001.fastq > 2010AC19008_S11_L001_R1_001_V3_Genotyper_Out.txt\n",
    "!perl Gtseq_Genotyper_v3.pl SNP1_FWD_Genotyper_V3_Input.csv 2010AC19015_S12_L001_R1_001.fastq > 2010AC19015_S12_L001_R1_001_V3_Genotyper_Out.txt\n",
    "!perl Gtseq_Genotyper_v3.pl SNP1_FWD_Genotyper_V3_Input.csv 2010AC19041_S17_L001_R1_001.fastq > 2010AC19041_S17_L001_R1_001_V3_Genotyper_Out.txt\n",
    "!perl Gtseq_Genotyper_v3.pl SNP1_FWD_Genotyper_V3_Input.csv 2010AC19047_S13_L001_R1_001.fastq > 2010AC19047_S13_L001_R1_001_V3_Genotyper_Out.txt\n",
    "!perl Gtseq_Genotyper_v3.pl SNP1_FWD_Genotyper_V3_Input.csv 2010AC19049_S14_L001_R1_001.fastq > 2010AC19049_S14_L001_R1_001_V3_Genotyper_Out.txt\n",
    "!perl Gtseq_Genotyper_v3.pl SNP1_FWD_Genotyper_V3_Input.csv 2010AC19050_S15_L001_R1_001.fastq > 2010AC19050_S15_L001_R1_001_V3_Genotyper_Out.txt\n",
    "!perl Gtseq_Genotyper_v3.pl SNP1_FWD_Genotyper_V3_Input.csv 2010AC19057_S16_L001_R1_001.fastq > 2010AC19057_S16_L001_R1_001_V3_Genotyper_Out.txt\n",
    "!perl Gtseq_Genotyper_v3.pl SNP1_FWD_Genotyper_V3_Input.csv 2010AC19091_S18_L001_R1_001.fastq > 2010AC19091_S18_L001_R1_001_V3_Genotyper_Out.txt\n",
    "!perl Gtseq_Genotyper_v3.pl SNP1_FWD_Genotyper_V3_Input.csv 2010AC19096_S21_L001_R1_001.fastq > 2010AC19096_S21_L001_R1_001_V3_Genotyper_Out.txt\n",
    "!perl Gtseq_Genotyper_v3.pl SNP1_FWD_Genotyper_V3_Input.csv 2010AC19098_S22_L001_R1_001.fastq > 2010AC19098_S22_L001_R1_001_V3_Genotyper_Out.txt\n",
    "!perl Gtseq_Genotyper_v3.pl SNP1_FWD_Genotyper_V3_Input.csv 2010AC19099_S19_L001_R1_001.fastq > 2010AC19099_S19_L001_R1_001_V3_Genotyper_Out.txt\n",
    "!perl Gtseq_Genotyper_v3.pl SNP1_FWD_Genotyper_V3_Input.csv 2010AC19101_S23_L001_R1_001.fastq > 2010AC19101_S23_L001_R1_001_V3_Genotyper_Out.txt\n",
    "!perl Gtseq_Genotyper_v3.pl SNP1_FWD_Genotyper_V3_Input.csv 2010AC19102_S20_L001_R1_001.fastq > 2010AC19102_S20_L001_R1_001_V3_Genotyper_Out.txt\n",
    "!perl Gtseq_Genotyper_v3.pl SNP1_FWD_Genotyper_V3_Input.csv 2010AC19105_S24_L001_R1_001.fastq > 2010AC19105_S24_L001_R1_001_V3_Genotyper_Out.txt\n",
    "!perl Gtseq_Genotyper_v3.pl SNP1_FWD_Genotyper_V3_Input.csv 2010AC19559_S3_L001_R1_001.fastq > 2010AC19559_S3_L001_R1_001_V3_Genotyper_Out.txt\n",
    "!perl Gtseq_Genotyper_v3.pl SNP1_FWD_Genotyper_V3_Input.csv 2010AC19565_S4_L001_R1_001.fastq > 2010AC19565_S4_L001_R1_001_V3_Genotyper_Out.txt\n",
    "!perl Gtseq_Genotyper_v3.pl SNP1_FWD_Genotyper_V3_Input.csv 2010AC19685_S5_L001_R1_001.fastq > 2010AC19685_S5_L001_R1_001_V3_Genotyper_Out.txt\n",
    "!perl Gtseq_Genotyper_v3.pl SNP1_FWD_Genotyper_V3_Input.csv 2010AC19689_S6_L001_R1_001.fastq > 2010AC19689_S6_L001_R1_001_V3_Genotyper_Out.txt\n",
    "!perl Gtseq_Genotyper_v3.pl SNP1_FWD_Genotyper_V3_Input.csv 2010AC19909_S1_L001_R1_001.fastq > 2010AC19909_S1_L001_R1_001_V3_Genotyper_Out.txt\n",
    "!perl Gtseq_Genotyper_v3.pl SNP1_FWD_Genotyper_V3_Input.csv 2010AC19938_S7_L001_R1_001.fastq > 2010AC19938_S7_L001_R1_001_V3_Genotyper_Out.txt\n",
    "!perl Gtseq_Genotyper_v3.pl SNP1_FWD_Genotyper_V3_Input.csv 2010AC19940_S8_L001_R1_001.fastq > 2010AC19940_S8_L001_R1_001_V3_Genotyper_Out.txt\n",
    "!perl Gtseq_Genotyper_v3.pl SNP1_FWD_Genotyper_V3_Input.csv 2010AC20099_S2_L001_R1_001.fastq > 2010AC20099_S2_L001_R1_001_V3_Genotyper_Out.txt"
   ]
  }
 ],
 "metadata": {
  "kernelspec": {
   "display_name": "Python 3",
   "language": "python",
   "name": "python3"
  },
  "language_info": {
   "codemirror_mode": {
    "name": "ipython",
    "version": 3
   },
   "file_extension": ".py",
   "mimetype": "text/x-python",
   "name": "python",
   "nbconvert_exporter": "python",
   "pygments_lexer": "ipython3",
   "version": "3.6.2"
  }
 },
 "nbformat": 4,
 "nbformat_minor": 2
}
