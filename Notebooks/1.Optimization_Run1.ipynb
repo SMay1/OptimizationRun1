{
 "cells": [
  {
   "cell_type": "markdown",
   "metadata": {},
   "source": [
    "This notebook details the bioinformatics associated with optimization run 1 of the AC SNP panel, 10/9/2017"
   ]
  },
  {
   "cell_type": "code",
   "execution_count": 11,
   "metadata": {},
   "outputs": [
    {
     "name": "stdout",
     "output_type": "stream",
     "text": [
      "/mnt/hgfs/Ubuntu_Shared/Optimization_Run1\n"
     ]
    }
   ],
   "source": [
    "cd /mnt/hgfs/Ubuntu_Shared/Optimization_Run1"
   ]
  },
  {
   "cell_type": "code",
   "execution_count": 34,
   "metadata": {},
   "outputs": [],
   "source": [
    "!stacks process_radtags \\\n",
    "-o Process_RadTags_Output \\\n",
    "-P \\\n",
    "-p Optimization_Run1_Data \\\n",
    "-i gzfastq \\\n",
    "-y fastq \\\n",
    "--adapter_1 TCTACACGTTCAGAGTTCTACAGTCCGACGATC \\\n",
    "--adapter_2 GTGACTGGAGTTCAGACGTGTGCTCTTCCGATCT \\\n",
    "-r \\\n",
    "-e 'sbfI' \\\n",
    "-c \\\n",
    "-q \\\n",
    "-t 70 \\\n",
    "-E phred33 \\\n",
    "--filter_illumina \\\n",
    "2> Process_RadTags_Output/Opt1_output.txt\n"
   ]
  },
  {
   "cell_type": "markdown",
   "metadata": {},
   "source": [
    "Data are already demultiplexed, so not going to use Process_Radtags"
   ]
  },
  {
   "cell_type": "code",
   "execution_count": null,
   "metadata": {
    "collapsed": true
   },
   "outputs": [],
   "source": []
  }
 ],
 "metadata": {
  "kernelspec": {
   "display_name": "Python 3",
   "language": "python",
   "name": "python3"
  },
  "language_info": {
   "codemirror_mode": {
    "name": "ipython",
    "version": 3
   },
   "file_extension": ".py",
   "mimetype": "text/x-python",
   "name": "python",
   "nbconvert_exporter": "python",
   "pygments_lexer": "ipython3",
   "version": "3.6.2"
  }
 },
 "nbformat": 4,
 "nbformat_minor": 2
}
